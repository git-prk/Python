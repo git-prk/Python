{
 "cells": [
  {
   "cell_type": "markdown",
   "metadata": {},
   "source": []
  },
  {
   "cell_type": "code",
   "execution_count": 2,
   "metadata": {},
   "outputs": [
    {
     "name": "stdout",
     "output_type": "stream",
     "text": [
      "WELCOME\n",
      "E\n",
      "COM\n",
      "COME\n",
      "CO\n",
      "\n"
     ]
    }
   ],
   "source": [
    "#         0123456\n",
    "greet =  \"WELCOME\"\n",
    "#         7654321\n",
    "print(greet)\n",
    "print(greet[-1])\n",
    "print(greet[-4:-1])\n",
    "print(greet[-4:]) #this will work = COME\n",
    "print(greet[-4:-2]) #CO\n",
    "print(greet[-4:0]) #???\n",
    "print (len(greet))"
   ]
  }
 ],
 "metadata": {
  "kernelspec": {
   "display_name": "Python 3",
   "language": "python",
   "name": "python3"
  },
  "language_info": {
   "codemirror_mode": {
    "name": "ipython",
    "version": 3
   },
   "file_extension": ".py",
   "mimetype": "text/x-python",
   "name": "python",
   "nbconvert_exporter": "python",
   "pygments_lexer": "ipython3",
   "version": "3.9.7"
  }
 },
 "nbformat": 4,
 "nbformat_minor": 2
}
